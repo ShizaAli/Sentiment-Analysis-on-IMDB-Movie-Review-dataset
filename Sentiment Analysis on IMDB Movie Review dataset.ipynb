{
  "nbformat": 4,
  "nbformat_minor": 0,
  "metadata": {
    "kernelspec": {
      "name": "python3",
      "display_name": "Python 3"
    },
    "language_info": {
      "codemirror_mode": {
        "name": "ipython",
        "version": 3
      },
      "file_extension": ".py",
      "mimetype": "text/x-python",
      "name": "python",
      "nbconvert_exporter": "python",
      "pygments_lexer": "ipython3",
      "version": "3.7.1"
    },
    "colab": {
      "name": "DL_PA6 20100136.ipynb",
      "provenance": [],
      "collapsed_sections": [],
      "machine_shape": "hm"
    },
    "accelerator": "GPU"
  },
  "cells": [
    {
      "cell_type": "markdown",
      "metadata": {
        "id": "p6LppVHVcehz",
        "colab_type": "text"
      },
      "source": [
        "Note: If you are using the Google Colab and want to use tensorflow < 2: you will have to downgrade using this link. https://colab.research.google.com/notebooks/tensorflow_version.ipynb"
      ]
    },
    {
      "cell_type": "markdown",
      "metadata": {
        "id": "fE-AHEGe7NF2",
        "colab_type": "text"
      },
      "source": [
        "# **Models and their accuracies:**\n",
        "\n",
        "\n",
        "\n",
        "1.   Using LSTM  => 0.89 \n",
        "2.   Using Bidirectional LSTM  => 0.89\n",
        "3.   Less parameters model (8962 parameters) => 0.86\n",
        "\n",
        "\n",
        "\n"
      ]
    },
    {
      "cell_type": "markdown",
      "metadata": {
        "id": "xQXc2RLkcunR",
        "colab_type": "text"
      },
      "source": [
        "# Sentiment Analysis on IMDB Movie Review dataset"
      ]
    },
    {
      "cell_type": "markdown",
      "metadata": {
        "id": "PmM9nJuqc61S",
        "colab_type": "text"
      },
      "source": [
        "Sentiment analysis is one of the key areas of research in NLP and Sequence modelling. We will be using LSTMs and Bi-directional LSTMs to predict two classes - positive or negative sentiment.\n",
        "\n",
        "\n",
        "You will be reading the dataset from here: https://drive.google.com/file/d/127PCwycL0oToSF6l-c2oFuBkacYsmlgK/view?usp=sharing\n",
        "\n",
        "You can use this blog for understanding: https://towardsdatascience.com/word-embeddings-for-sentiment-analysis-65f42ea5d26e"
      ]
    },
    {
      "cell_type": "code",
      "metadata": {
        "ExecuteTime": {
          "end_time": "2020-04-07T13:31:26.633881Z",
          "start_time": "2020-04-07T13:31:26.624745Z"
        },
        "_cell_guid": "b1076dfc-b9ad-4769-8c92-a6c4dae69d19",
        "_uuid": "8f2839f25d086af736a60e9eeb907d3b93b6e0e5",
        "id": "hT5xlQy1_UY6",
        "colab_type": "code",
        "colab": {}
      },
      "source": [
        "%tensorflow_version 1.x\n",
        "import numpy as np \n",
        "import pandas as pd \n",
        "import keras\n",
        "from keras.datasets import imdb\n",
        "from keras.models import Sequential\n",
        "from keras.layers import Dense, LSTM, Conv1D, MaxPooling1D, Conv1D, Dropout, Bidirectional, Flatten\n",
        "from keras.layers.embeddings import Embedding\n",
        "from keras.preprocessing import sequence\n",
        "from sklearn.model_selection import train_test_split\n",
        "import matplotlib.pyplot as plt\n",
        "import nltk \n",
        "from keras.callbacks import ModelCheckpoint"
      ],
      "execution_count": 0,
      "outputs": []
    },
    {
      "cell_type": "code",
      "metadata": {
        "id": "PQn7NTu0utLp",
        "colab_type": "code",
        "outputId": "a2705379-f2dc-4cee-b6f1-bef80f816163",
        "colab": {
          "base_uri": "https://localhost:8080/",
          "height": 34
        }
      },
      "source": [
        "from google.colab import drive\n",
        "drive.mount('/content/drive')"
      ],
      "execution_count": 2,
      "outputs": [
        {
          "output_type": "stream",
          "text": [
            "Drive already mounted at /content/drive; to attempt to forcibly remount, call drive.mount(\"/content/drive\", force_remount=True).\n"
          ],
          "name": "stdout"
        }
      ]
    },
    {
      "cell_type": "code",
      "metadata": {
        "id": "Jk4PWBQvEWeL",
        "colab_type": "code",
        "outputId": "0294cd99-9361-4a07-d51a-c38acae15399",
        "colab": {
          "base_uri": "https://localhost:8080/",
          "height": 34
        }
      },
      "source": [
        "cd '/content/drive/My Drive/DL 6'"
      ],
      "execution_count": 3,
      "outputs": [
        {
          "output_type": "stream",
          "text": [
            "/content/drive/My Drive/DL 6\n"
          ],
          "name": "stdout"
        }
      ]
    },
    {
      "cell_type": "markdown",
      "metadata": {
        "id": "apFydSt_d1bv",
        "colab_type": "text"
      },
      "source": [
        "All the relevant libraries are imported. \n",
        "You are free to change as you please. \n",
        "Using the GPU backend is recommended as LSTMs are computationally expensive to train.\n",
        "\n"
      ]
    },
    {
      "cell_type": "markdown",
      "metadata": {
        "id": "kgb27C2ceFmU",
        "colab_type": "text"
      },
      "source": [
        "## Data handling - exploration and cleaning\n",
        "\n"
      ]
    },
    {
      "cell_type": "markdown",
      "metadata": {
        "id": "4XNC2zKWeNcP",
        "colab_type": "text"
      },
      "source": [
        "\n",
        "\n",
        "1.   You are expected to read the dataset into a dataframe.\n",
        "2.   This is a real world dataset and you will be expected to clean the dataset.\n",
        "\n",
        "1.   This includes removing trailing spaces and HTML tags.\n",
        "\n",
        "\n",
        "\n",
        "\n"
      ]
    },
    {
      "cell_type": "code",
      "metadata": {
        "id": "SL5pvXRQd_xs",
        "colab_type": "code",
        "outputId": "8ff75aa4-5eed-4bd5-8d30-3c93d61377dd",
        "colab": {
          "base_uri": "https://localhost:8080/",
          "height": 221
        }
      },
      "source": [
        "df = pd.read_csv('IMDB Dataset.csv')\n",
        "df = df.reindex(np.random.permutation(df.index))\n",
        "print(df.shape)\n",
        "df.head()"
      ],
      "execution_count": 33,
      "outputs": [
        {
          "output_type": "stream",
          "text": [
            "(50000, 2)\n"
          ],
          "name": "stdout"
        },
        {
          "output_type": "execute_result",
          "data": {
            "text/html": [
              "<div>\n",
              "<style scoped>\n",
              "    .dataframe tbody tr th:only-of-type {\n",
              "        vertical-align: middle;\n",
              "    }\n",
              "\n",
              "    .dataframe tbody tr th {\n",
              "        vertical-align: top;\n",
              "    }\n",
              "\n",
              "    .dataframe thead th {\n",
              "        text-align: right;\n",
              "    }\n",
              "</style>\n",
              "<table border=\"1\" class=\"dataframe\">\n",
              "  <thead>\n",
              "    <tr style=\"text-align: right;\">\n",
              "      <th></th>\n",
              "      <th>review</th>\n",
              "      <th>sentiment</th>\n",
              "    </tr>\n",
              "  </thead>\n",
              "  <tbody>\n",
              "    <tr>\n",
              "      <th>34050</th>\n",
              "      <td>The Film must have been shot in a day,there ar...</td>\n",
              "      <td>negative</td>\n",
              "    </tr>\n",
              "    <tr>\n",
              "      <th>17682</th>\n",
              "      <td>This movie feels like a film project. As thoug...</td>\n",
              "      <td>positive</td>\n",
              "    </tr>\n",
              "    <tr>\n",
              "      <th>32547</th>\n",
              "      <td>I have no idea how anyone managed to stay awak...</td>\n",
              "      <td>negative</td>\n",
              "    </tr>\n",
              "    <tr>\n",
              "      <th>8074</th>\n",
              "      <td>Just a great soundtrack. Really enjoyable musi...</td>\n",
              "      <td>positive</td>\n",
              "    </tr>\n",
              "    <tr>\n",
              "      <th>6686</th>\n",
              "      <td>Easily 9 out of 10 for a film by director we w...</td>\n",
              "      <td>positive</td>\n",
              "    </tr>\n",
              "  </tbody>\n",
              "</table>\n",
              "</div>"
            ],
            "text/plain": [
              "                                                  review sentiment\n",
              "34050  The Film must have been shot in a day,there ar...  negative\n",
              "17682  This movie feels like a film project. As thoug...  positive\n",
              "32547  I have no idea how anyone managed to stay awak...  negative\n",
              "8074   Just a great soundtrack. Really enjoyable musi...  positive\n",
              "6686   Easily 9 out of 10 for a film by director we w...  positive"
            ]
          },
          "metadata": {
            "tags": []
          },
          "execution_count": 33
        }
      ]
    },
    {
      "cell_type": "markdown",
      "metadata": {
        "id": "5EAO393yfEK5",
        "colab_type": "text"
      },
      "source": [
        "### Data Cleaning - write the techniques you employed and the achieved results"
      ]
    },
    {
      "cell_type": "code",
      "metadata": {
        "id": "8amRvlu7qzW4",
        "colab_type": "code",
        "colab": {}
      },
      "source": [
        "# WRITE CODE HERE\n",
        "# Sample code:\n",
        "df['review'] = df['review'].str.replace('<[^>]+>', '')"
      ],
      "execution_count": 0,
      "outputs": []
    },
    {
      "cell_type": "code",
      "metadata": {
        "id": "SSFfneILaiZR",
        "colab_type": "code",
        "colab": {}
      },
      "source": [
        "df.review = df.review.str.lower()"
      ],
      "execution_count": 0,
      "outputs": []
    },
    {
      "cell_type": "code",
      "metadata": {
        "id": "mrEmF5EB4ZeU",
        "colab_type": "code",
        "colab": {}
      },
      "source": [
        "df[\"review\"] = df['review'].str.replace(\"[^ a-z0-9]+\",' ') "
      ],
      "execution_count": 0,
      "outputs": []
    },
    {
      "cell_type": "code",
      "metadata": {
        "id": "tY_GgnTjLD9K",
        "colab_type": "code",
        "colab": {}
      },
      "source": [
        "df['review'] = df['review'].str.strip()\n",
        "df['sentiment'] = df['sentiment'].str.strip()"
      ],
      "execution_count": 0,
      "outputs": []
    },
    {
      "cell_type": "code",
      "metadata": {
        "id": "Y1Xg6Tchn_fT",
        "colab_type": "code",
        "colab": {}
      },
      "source": [
        "allwords = \" \".join(df['review'].values.tolist()).split()"
      ],
      "execution_count": 0,
      "outputs": []
    },
    {
      "cell_type": "code",
      "metadata": {
        "id": "tw7_H9Xen75f",
        "colab_type": "code",
        "outputId": "3c23b254-7c8a-4e13-9208-210b5d333f8d",
        "colab": {
          "base_uri": "https://localhost:8080/",
          "height": 34
        }
      },
      "source": [
        "allwords[:10]"
      ],
      "execution_count": 39,
      "outputs": [
        {
          "output_type": "execute_result",
          "data": {
            "text/plain": [
              "['the', 'film', 'must', 'have', 'been', 'shot', 'in', 'a', 'day', 'there']"
            ]
          },
          "metadata": {
            "tags": []
          },
          "execution_count": 39
        }
      ]
    },
    {
      "cell_type": "code",
      "metadata": {
        "id": "lOWiusoRUL8X",
        "colab_type": "code",
        "outputId": "b9d757fd-41de-4453-b6e8-dad8eff425a2",
        "colab": {
          "base_uri": "https://localhost:8080/",
          "height": 68
        }
      },
      "source": [
        "nltk.download('stopwords')"
      ],
      "execution_count": 20,
      "outputs": [
        {
          "output_type": "stream",
          "text": [
            "[nltk_data] Downloading package stopwords to /root/nltk_data...\n",
            "[nltk_data]   Package stopwords is already up-to-date!\n"
          ],
          "name": "stdout"
        },
        {
          "output_type": "execute_result",
          "data": {
            "text/plain": [
              "True"
            ]
          },
          "metadata": {
            "tags": []
          },
          "execution_count": 20
        }
      ]
    },
    {
      "cell_type": "code",
      "metadata": {
        "id": "OjI2LT4_pAy4",
        "colab_type": "code",
        "outputId": "ba74ae64-e9d6-4053-8242-b196a73589e8",
        "colab": {
          "base_uri": "https://localhost:8080/",
          "height": 68
        }
      },
      "source": [
        "nltk.download('wordnet')"
      ],
      "execution_count": 21,
      "outputs": [
        {
          "output_type": "stream",
          "text": [
            "[nltk_data] Downloading package wordnet to /root/nltk_data...\n",
            "[nltk_data]   Package wordnet is already up-to-date!\n"
          ],
          "name": "stdout"
        },
        {
          "output_type": "execute_result",
          "data": {
            "text/plain": [
              "True"
            ]
          },
          "metadata": {
            "tags": []
          },
          "execution_count": 21
        }
      ]
    },
    {
      "cell_type": "code",
      "metadata": {
        "id": "EHQvUdVTn0RU",
        "colab_type": "code",
        "colab": {}
      },
      "source": [
        "from nltk.stem import WordNetLemmatizer \n",
        "  \n",
        "lemmatizer = WordNetLemmatizer() "
      ],
      "execution_count": 0,
      "outputs": []
    },
    {
      "cell_type": "code",
      "metadata": {
        "id": "UGWcLj9IIq3A",
        "colab_type": "code",
        "colab": {}
      },
      "source": [
        "def remove_stopwords(input_text):\n",
        "    stopwords_list = nltk.corpus.stopwords.words('english')\n",
        "    whitelist = [\"don't\", \"not\", \"no\",]\n",
        "    words = input_text.split() \n",
        "    lemm = [lemmatizer.lemmatize(w) for w in words]\n",
        "    clean_words = [word for word in lemm if (word not in stopwords_list or word in whitelist) and len(word) > 2] \n",
        "    return \" \".join(clean_words)"
      ],
      "execution_count": 0,
      "outputs": []
    },
    {
      "cell_type": "code",
      "metadata": {
        "id": "TSi0FY48JDh8",
        "colab_type": "code",
        "colab": {}
      },
      "source": [
        "df.review = df.review.apply(remove_stopwords)"
      ],
      "execution_count": 0,
      "outputs": []
    },
    {
      "cell_type": "markdown",
      "metadata": {
        "id": "uRVWsc1Lf0Af",
        "colab_type": "text"
      },
      "source": [
        "Write about the techniques used to clean:"
      ]
    },
    {
      "cell_type": "markdown",
      "metadata": {
        "id": "NERUdU-UixNS",
        "colab_type": "text"
      },
      "source": [
        "**I used the following techniques to clean the data:**\n",
        "\n",
        "\n",
        "1.   Removed html tags. Anything between < > was removed altogether.\n",
        "2.   All the reviews were converted into lowercase.\n",
        "3.   Everything that was not a lower case alphabet or a number was replaced by a space.\n",
        "4.   Both the review and sentiments were stripped of any leading or trailing spaces.\n",
        "5.   All stopwords were removed except words like don't, not, no which might indicate sentiment.\n",
        "6.   Lemmatizers were used where they group together the inflected forms of a word so they can be analyzed as a single item. \n",
        "\n",
        "\n",
        "\n",
        "\n",
        "\n"
      ]
    },
    {
      "cell_type": "markdown",
      "metadata": {
        "id": "xQw0av-Zgcyc",
        "colab_type": "text"
      },
      "source": [
        "### Data Exploration"
      ]
    },
    {
      "cell_type": "markdown",
      "metadata": {
        "id": "M4n5GmwQgrOh",
        "colab_type": "text"
      },
      "source": [
        "\n",
        "\n",
        "1.   You are required to report the total number of distinct tokens present in the data set.\n",
        "2.   Find out the minimum and max length of a review.\n",
        "\n",
        "An integral part of visualization when it comes to textual data is the generating of a word cloud.\n",
        "\n",
        "1.   \n",
        "This task is open-ended and you can use any library of your choice. \n",
        "NLTK is one such library. \n",
        "2.   \n",
        "Make sure to keep note of stop words.\n",
        "\n",
        "##Example:\n",
        "\n",
        "\n",
        "![alt text](https://getthematic.com/wp-content/uploads/2018/03/Harris-Word-Cloud-e1522406279125.png)\n",
        "\n",
        "\n"
      ]
    },
    {
      "cell_type": "code",
      "metadata": {
        "id": "qgWWJtYy7sMN",
        "colab_type": "code",
        "colab": {}
      },
      "source": [
        "allwords = \" \".join(df['review'].values.tolist()).split(\" \")"
      ],
      "execution_count": 0,
      "outputs": []
    },
    {
      "cell_type": "code",
      "metadata": {
        "id": "yeI-xIOG7vvq",
        "colab_type": "code",
        "colab": {}
      },
      "source": [
        "result = len(set(allwords))"
      ],
      "execution_count": 0,
      "outputs": []
    },
    {
      "cell_type": "code",
      "metadata": {
        "id": "Xf9BsA8B4-aE",
        "colab_type": "code",
        "outputId": "e8f861c0-0fcc-44ba-ce58-ea22131e3965",
        "colab": {
          "base_uri": "https://localhost:8080/",
          "height": 51
        }
      },
      "source": [
        "print('Total number of Distinct Tokens Present:' )\n",
        "result"
      ],
      "execution_count": 46,
      "outputs": [
        {
          "output_type": "stream",
          "text": [
            "Total number of Distinct Tokens Present:\n"
          ],
          "name": "stdout"
        },
        {
          "output_type": "execute_result",
          "data": {
            "text/plain": [
              "93006"
            ]
          },
          "metadata": {
            "tags": []
          },
          "execution_count": 46
        }
      ]
    },
    {
      "cell_type": "code",
      "metadata": {
        "id": "HyPZUFEwEw5G",
        "colab_type": "code",
        "outputId": "3453647d-0f69-456f-de89-1f7967af0762",
        "colab": {
          "base_uri": "https://localhost:8080/",
          "height": 51
        }
      },
      "source": [
        "print('Maximum Length of a Review:' )\n",
        "df.review.map(len).max()"
      ],
      "execution_count": 47,
      "outputs": [
        {
          "output_type": "stream",
          "text": [
            "Maximum Length of a Review:\n"
          ],
          "name": "stdout"
        },
        {
          "output_type": "execute_result",
          "data": {
            "text/plain": [
              "9048"
            ]
          },
          "metadata": {
            "tags": []
          },
          "execution_count": 47
        }
      ]
    },
    {
      "cell_type": "code",
      "metadata": {
        "id": "ZpJmVGhYeLqt",
        "colab_type": "code",
        "outputId": "6409bb93-69cc-4bf2-e6f1-b78209919d0b",
        "colab": {
          "base_uri": "https://localhost:8080/",
          "height": 51
        }
      },
      "source": [
        "print('Minimum Length of a Review:' )\n",
        "df.review.map(len).min()"
      ],
      "execution_count": 48,
      "outputs": [
        {
          "output_type": "stream",
          "text": [
            "Minimum Length of a Review:\n"
          ],
          "name": "stdout"
        },
        {
          "output_type": "execute_result",
          "data": {
            "text/plain": [
              "17"
            ]
          },
          "metadata": {
            "tags": []
          },
          "execution_count": 48
        }
      ]
    },
    {
      "cell_type": "code",
      "metadata": {
        "id": "cWexTSXjeugN",
        "colab_type": "code",
        "colab": {}
      },
      "source": [
        "from wordcloud import WordCloud"
      ],
      "execution_count": 0,
      "outputs": []
    },
    {
      "cell_type": "code",
      "metadata": {
        "id": "aSb3j_5sGOBT",
        "colab_type": "code",
        "colab": {}
      },
      "source": [
        "wordcloud = WordCloud().generate(''.join(df.review.astype(str).tolist()))"
      ],
      "execution_count": 0,
      "outputs": []
    },
    {
      "cell_type": "code",
      "metadata": {
        "id": "qNeMeb2veyu0",
        "colab_type": "code",
        "outputId": "d434df0d-2b5b-478e-f068-3a8bb004a848",
        "colab": {
          "base_uri": "https://localhost:8080/",
          "height": 198
        }
      },
      "source": [
        "plt.imshow(wordcloud)\n",
        "plt.axis(\"off\")\n",
        "plt.show()"
      ],
      "execution_count": 51,
      "outputs": [
        {
          "output_type": "display_data",
          "data": {
            "image/png": "[encoded data removed]",
            "text/plain": [
              "<Figure size 432x288 with 1 Axes>"
            ]
          },
          "metadata": {
            "tags": [],
            "needs_background": "light"
          }
        }
      ]
    },
    {
      "cell_type": "markdown",
      "metadata": {
        "id": "4iC2QLmai9FK",
        "colab_type": "text"
      },
      "source": [
        "### Model processing\n",
        "\n",
        "You can use a 70:30 train/test split.\n",
        "The labels are 'positive' and negative, you should assign them integers 0 or 1 for further processing."
      ]
    },
    {
      "cell_type": "code",
      "metadata": {
        "id": "RjtSoMtfKor1",
        "colab_type": "code",
        "colab": {}
      },
      "source": [
        "from sklearn.preprocessing import OneHotEncoder, LabelEncoder\n",
        "\n",
        "enc = OneHotEncoder(handle_unknown='ignore')\n",
        "enc_df = pd.DataFrame(enc.fit_transform(df[['sentiment']]).toarray())\n",
        "\n",
        "\n",
        "# le = LabelEncoder()\n",
        "\n",
        "# df['labels'] = le.fit_transform(df.sentiment.values)"
      ],
      "execution_count": 0,
      "outputs": []
    },
    {
      "cell_type": "code",
      "metadata": {
        "id": "8mIPtaMJK3Jc",
        "colab_type": "code",
        "outputId": "d64b4e4b-b7fb-404e-e7cd-9ca4f013d6cd",
        "colab": {
          "base_uri": "https://localhost:8080/",
          "height": 51
        }
      },
      "source": [
        "X_train, X_test, y_train, y_test = train_test_split(df.review, enc_df, test_size=0.3, random_state=37)\n",
        "print('# Train data samples:', X_train.shape[0])\n",
        "print('# Test data samples:', X_test.shape[0])"
      ],
      "execution_count": 53,
      "outputs": [
        {
          "output_type": "stream",
          "text": [
            "# Train data samples: 35000\n",
            "# Test data samples: 15000\n"
          ],
          "name": "stdout"
        }
      ]
    },
    {
      "cell_type": "code",
      "metadata": {
        "id": "rKOvTz07tEzP",
        "colab_type": "code",
        "colab": {}
      },
      "source": [
        "from keras.preprocessing.text import text_to_word_sequence\n",
        "from keras.preprocessing.text import Tokenizer"
      ],
      "execution_count": 0,
      "outputs": []
    },
    {
      "cell_type": "markdown",
      "metadata": {
        "id": "_ymi3ltfpBpX",
        "colab_type": "text"
      },
      "source": [
        "### Tokenizer\n",
        "You will need to use fit a tokenizer over your training and testing data.\n",
        "\n",
        "What does a tokenizer do?\n",
        "It creates a dictionary of word to integer mappings. It updates internal vocabulary based on a list of texts. You should read up on the documentation before diving into the code. \n",
        "\n",
        "You will also be using the the text_to_sequence function will return integers based on a respective tokenizer.\n",
        "\n",
        "Make sure you **pad** your sequences to max length using sequence.pad_sequences()\n",
        "\n",
        "\n"
      ]
    },
    {
      "cell_type": "code",
      "metadata": {
        "id": "wIV5hB84GVgX",
        "colab_type": "code",
        "colab": {}
      },
      "source": [
        "# WRITE CODE HERE\n",
        "tk = Tokenizer(num_words=93006,\n",
        "               filters='!\"#$%&()*+,-./:;<=>?@[\\\\]^_`{|}~\\t\\n',\n",
        "               lower=True,\n",
        "               split=\" \")\n",
        "\n",
        "tk.fit_on_texts(X_train)\n",
        "\n",
        "X_train_seq = tk.texts_to_sequences(X_train)\n",
        "X_test_seq = tk.texts_to_sequences(X_test)"
      ],
      "execution_count": 0,
      "outputs": []
    },
    {
      "cell_type": "code",
      "metadata": {
        "id": "g9Rz1zkZGYSx",
        "colab_type": "code",
        "colab": {
          "base_uri": "https://localhost:8080/",
          "height": 170
        },
        "outputId": "806c5927-9575-40bb-ea3d-ec9b544e5c5d"
      },
      "source": [
        "seq_lengths = X_train.apply(lambda x: len(x.split(' ')))\n",
        "seq_lengths.describe()"
      ],
      "execution_count": 216,
      "outputs": [
        {
          "output_type": "execute_result",
          "data": {
            "text/plain": [
              "count    35000.000000\n",
              "mean       117.910457\n",
              "std         88.428900\n",
              "min          3.000000\n",
              "25%         63.000000\n",
              "50%         88.000000\n",
              "75%        143.000000\n",
              "max       1162.000000\n",
              "Name: review, dtype: float64"
            ]
          },
          "metadata": {
            "tags": []
          },
          "execution_count": 216
        }
      ]
    },
    {
      "cell_type": "code",
      "metadata": {
        "id": "OWsInyZmGbt9",
        "colab_type": "code",
        "colab": {}
      },
      "source": [
        "X_train_seq_trunc = sequence.pad_sequences(X_train_seq, maxlen=1162)\n",
        "X_test_seq_trunc = sequence.pad_sequences(X_test_seq, maxlen=1162)"
      ],
      "execution_count": 0,
      "outputs": []
    },
    {
      "cell_type": "code",
      "metadata": {
        "id": "_Tn6s--ft8cP",
        "colab_type": "code",
        "outputId": "07ccb0a9-0dd4-49a9-8e6d-6e275930396e",
        "colab": {
          "base_uri": "https://localhost:8080/",
          "height": 34
        }
      },
      "source": [
        "X_train_seq_trunc.shape"
      ],
      "execution_count": 214,
      "outputs": [
        {
          "output_type": "execute_result",
          "data": {
            "text/plain": [
              "(35000, 1162)"
            ]
          },
          "metadata": {
            "tags": []
          },
          "execution_count": 214
        }
      ]
    },
    {
      "cell_type": "markdown",
      "metadata": {
        "id": "DXxkoySHqdgm",
        "colab_type": "text"
      },
      "source": [
        "### Embedding layer\n",
        "You will be importing the embedding layer from Keras.\n",
        "Embedding layers are common place when handling textual data. \n",
        "Word embeddings provide a dense representation of words and their relative meanings.\n",
        "\n",
        "#### How do they work - via Stack Overflow\n",
        "Link: https://stats.stackexchange.com/questions/270546/how-does-keras-embedding-layer-work\n",
        "\n",
        "The output vectors are not computed from the input using any mathematical operation. Instead, each input integer is used as the index to access a table that contains all posible vectors. That is the reason why you need to specify the size of the vocabulary as the first argument (so the table can be initialized).\n",
        "\n",
        "The most common application of this layer is for text processing. Let's see a simple example. Our training set consists only of two phrases:\n",
        "\n",
        "Hope to see you soon\n",
        "\n",
        "Nice to see you again\n",
        "\n",
        "So we can encode these phrases by assigning each word a unique integer number (by order of appearance in our training dataset for example). Then our phrases could be rewritten as:\n",
        "\n",
        "[0, 1, 2, 3, 4]\n",
        "\n",
        "[5, 1, 2, 3, 6]\n",
        "\n",
        "Now imagine we want to train a network whose first layer is an embeding layer. In this case, we should initialize it as follows:\n",
        "\n",
        "Embedding(7, 2, input_length=5)\n",
        "\n",
        "The first argument (7) is the number of distinct words in the training set. The second argument (2) indicates the size of the embedding vectors. The input_length argumet, of course, determines the size of each input sequence.\n",
        "\n",
        "Once the network has been trained, we can get the weights of the embedding layer, which in this case will be of size (7, 2) and can be thought as the table used to map integers to embedding vectors.\n"
      ]
    },
    {
      "cell_type": "markdown",
      "metadata": {
        "id": "zjhYezEFx0Ov",
        "colab_type": "text"
      },
      "source": [
        "### Model Engineering\n",
        "\n",
        "You will be required to engineer three types of models from scratch.\n",
        "\n",
        "1.   Using LSTMs\n",
        "2.   Bi-directional LSTMs\n",
        "\n",
        "1.   A model with less than 10,000 parameters - the lower the parameters, higher the score (provided accuracy is good)\n",
        "\n",
        "\n",
        "For each model:\n",
        "\n",
        "1.   You will be reporting graphs for validation accuracy and training loss.\n",
        "2.   What hyper-parameters, loss functions, optimizations, initializations were used. This should be clearly stated in your analysis.\n",
        "\n",
        "~90 percent and above is the desired accuracy. \n",
        "\n",
        "For model 3, CLEARLY report the number of parameters.\n",
        "\n",
        "\n"
      ]
    },
    {
      "cell_type": "markdown",
      "metadata": {
        "id": "6dH_og94E234",
        "colab_type": "text"
      },
      "source": [
        "Model 1"
      ]
    },
    {
      "cell_type": "code",
      "metadata": {
        "id": "VvgeBkYA8iiR",
        "colab_type": "code",
        "colab": {}
      },
      "source": [
        "input_dim = result #result = 93006\n",
        "output_dim = 80\n",
        "epochs = 5\n",
        "#Optimizer = Adam\n",
        "#Loss function = Categorical Cross entropy\n",
        "#LSTM units = 200\n",
        "#Dropout rate = 0.2"
      ],
      "execution_count": 0,
      "outputs": []
    },
    {
      "cell_type": "code",
      "metadata": {
        "id": "MP0E18cgLJeT",
        "colab_type": "code",
        "outputId": "7b68e522-3527-4cfd-9654-795603ee97d4",
        "colab": {
          "base_uri": "https://localhost:8080/",
          "height": 306
        }
      },
      "source": [
        "# CODE HERE\n",
        "\n",
        "# Some example code to help you get started\n",
        "# X_train is your training data \n",
        "# input_dim is your dictionary length, output_dim is the length is the dimension of the dense embedding, you can choose whatever works best for you, starting with 2.\n",
        "checkpoint = ModelCheckpoint('model-{epoch:03d}-{accuracy:03f}-{val_accuracy:03f}.h5', save_best_only=True, monitor='val_accuracy', mode='max')\n",
        "model = Sequential()\n",
        "model.add(Embedding(input_dim, output_dim, input_length = X_train_seq_trunc.shape[1]))\n",
        "model.add(LSTM(200))\n",
        "model.add(Dropout(0.2))\n",
        "model.add(Dense(2,activation='softmax'))\n",
        "model.compile(loss ='categorical_crossentropy', optimizer='adam',metrics = ['accuracy'])\n",
        "\n",
        "model.name ='Using LSTMS'\n",
        "print(model.summary())\n",
        "# You can choose to complete this model per your choice"
      ],
      "execution_count": 67,
      "outputs": [
        {
          "output_type": "stream",
          "text": [
            "Model: \"Using LSTMS\"\n",
            "_________________________________________________________________\n",
            "Layer (type)                 Output Shape              Param #   \n",
            "=================================================================\n",
            "embedding_3 (Embedding)      (None, 1162, 80)          7440480   \n",
            "_________________________________________________________________\n",
            "lstm_3 (LSTM)                (None, 200)               224800    \n",
            "_________________________________________________________________\n",
            "dropout_3 (Dropout)          (None, 200)               0         \n",
            "_________________________________________________________________\n",
            "dense_3 (Dense)              (None, 2)                 402       \n",
            "=================================================================\n",
            "Total params: 7,665,682\n",
            "Trainable params: 7,665,682\n",
            "Non-trainable params: 0\n",
            "_________________________________________________________________\n",
            "None\n"
          ],
          "name": "stdout"
        }
      ]
    },
    {
      "cell_type": "code",
      "metadata": {
        "id": "RO4iZB09YcAG",
        "colab_type": "code",
        "outputId": "87789806-4bed-4447-e519-c29b1ce5e952",
        "colab": {
          "base_uri": "https://localhost:8080/",
          "height": 204
        }
      },
      "source": [
        "batch_size = 512\n",
        "hist = model.fit(X_train_seq_trunc, \n",
        "          y_train, \n",
        "          epochs = epochs, \n",
        "          batch_size=batch_size, \n",
        "          validation_data = (X_test_seq_trunc, y_test),\n",
        "          use_multiprocessing = True,\n",
        "          callbacks = [checkpoint],\n",
        "          workers = 200)"
      ],
      "execution_count": 68,
      "outputs": [
        {
          "output_type": "stream",
          "text": [
            "Train on 35000 samples, validate on 15000 samples\n",
            "Epoch 1/5\n",
            "35000/35000 [==============================] - 151s 4ms/step - loss: 0.6101 - accuracy: 0.6952 - val_loss: 0.4977 - val_accuracy: 0.7730\n",
            "Epoch 2/5\n",
            "35000/35000 [==============================] - 151s 4ms/step - loss: 0.2840 - accuracy: 0.8858 - val_loss: 0.3142 - val_accuracy: 0.8838\n",
            "Epoch 3/5\n",
            "35000/35000 [==============================] - 151s 4ms/step - loss: 0.1474 - accuracy: 0.9479 - val_loss: 0.3020 - val_accuracy: 0.8864\n",
            "Epoch 4/5\n",
            "35000/35000 [==============================] - 151s 4ms/step - loss: 0.0866 - accuracy: 0.9727 - val_loss: 0.3397 - val_accuracy: 0.8791\n",
            "Epoch 5/5\n",
            "35000/35000 [==============================] - 150s 4ms/step - loss: 0.0520 - accuracy: 0.9856 - val_loss: 0.4329 - val_accuracy: 0.8760\n"
          ],
          "name": "stdout"
        }
      ]
    },
    {
      "cell_type": "markdown",
      "metadata": {
        "id": "QuEaJTpvszcx",
        "colab_type": "text"
      },
      "source": [
        "The best accuracy is 0.8864 => 0.89 and the weights at that epoch are saved.\n"
      ]
    },
    {
      "cell_type": "code",
      "metadata": {
        "id": "d9ZwynGjtEp5",
        "colab_type": "code",
        "colab": {
          "base_uri": "https://localhost:8080/",
          "height": 282
        },
        "outputId": "ec7b9c40-1929-43cf-df85-7f064a4ac0ce"
      },
      "source": [
        "plt.plot(hist.history['val_accuracy'], label='Validation Accuracy')\n",
        "plt.legend()"
      ],
      "execution_count": 71,
      "outputs": [
        {
          "output_type": "execute_result",
          "data": {
            "text/plain": [
              "<matplotlib.legend.Legend at 0x7f95b196d128>"
            ]
          },
          "metadata": {
            "tags": []
          },
          "execution_count": 71
        },
        {
          "output_type": "display_data",
          "data": {
            "image/png": "[encoded data removed]",
            "text/plain": [
              "<Figure size 432x288 with 1 Axes>"
            ]
          },
          "metadata": {
            "tags": [],
            "needs_background": "light"
          }
        }
      ]
    },
    {
      "cell_type": "code",
      "metadata": {
        "id": "U3U-E-g-WyhS",
        "colab_type": "code",
        "outputId": "a0697666-f37a-4e92-bd75-c5f4a7b166d1",
        "colab": {
          "base_uri": "https://localhost:8080/",
          "height": 282
        }
      },
      "source": [
        "plt.plot(hist.history['loss'],label='Training Loss')\n",
        "plt.legend()"
      ],
      "execution_count": 70,
      "outputs": [
        {
          "output_type": "execute_result",
          "data": {
            "text/plain": [
              "<matplotlib.legend.Legend at 0x7f9582486fd0>"
            ]
          },
          "metadata": {
            "tags": []
          },
          "execution_count": 70
        },
        {
          "output_type": "display_data",
          "data": {
            "image/png": "[encoded data removed]",
            "text/plain": [
              "<Figure size 432x288 with 1 Axes>"
            ]
          },
          "metadata": {
            "tags": [],
            "needs_background": "light"
          }
        }
      ]
    },
    {
      "cell_type": "markdown",
      "metadata": {
        "id": "0xlkZziHP-dO",
        "colab_type": "text"
      },
      "source": [
        "**ANALYSIS**\n"
      ]
    },
    {
      "cell_type": "markdown",
      "metadata": {
        "id": "6MpBPAtD-b7c",
        "colab_type": "text"
      },
      "source": [
        "The validation accuracy starts to decrease after the 3rd epoch as the model overfits despite dropout. Training loss decreases with each epoch and training accuracy increases. The loss function used is categorical cross entropy since there is only one sentiment for each review. The optimizer used is Adam. The hyperparameters of the model are written under the model heading."
      ]
    },
    {
      "cell_type": "markdown",
      "metadata": {
        "id": "uHc_hxjME5gZ",
        "colab_type": "text"
      },
      "source": [
        "Model 2"
      ]
    },
    {
      "cell_type": "code",
      "metadata": {
        "id": "_9eeewr982j3",
        "colab_type": "code",
        "colab": {}
      },
      "source": [
        "input_dim = result #result = 93006\n",
        "output_dim = 80\n",
        "epochs = 5\n",
        "#Optimizer = Adam\n",
        "#Loss function = Categorical Cross entropy\n",
        "#LSTM units = 200\n",
        "#Dropout rate = 0.5"
      ],
      "execution_count": 0,
      "outputs": []
    },
    {
      "cell_type": "code",
      "metadata": {
        "id": "B8rC_LQttK9J",
        "colab_type": "code",
        "colab": {
          "base_uri": "https://localhost:8080/",
          "height": 272
        },
        "outputId": "3a5b7df7-95ab-4584-d771-c00a5f68f0b1"
      },
      "source": [
        "input_dim = result\n",
        "output_dim = 80\n",
        "# Some example code to help you get started\n",
        "# X_train is your training data \n",
        "# input_dim is your dictionary length, output_dim is the length is the dimension of the dense embedding, you can choose whatever works best for you, starting with 2.\n",
        "checkpoint = ModelCheckpoint('model1-{epoch:03d}-{accuracy:03f}-{val_accuracy:03f}.h5', save_best_only=True, monitor='val_accuracy', mode='max')\n",
        "model1 = Sequential()\n",
        "model1.add(Embedding(input_dim, output_dim, input_length = X_train_seq_trunc.shape[1]))\n",
        "model1.add(Bidirectional (LSTM (200,dropout=0.50)))\n",
        "model1.add(Dense(2,activation='softmax'))\n",
        "\n",
        "model1.compile(loss = 'categorical_crossentropy', optimizer='adam',metrics = ['accuracy'])\n",
        "\n",
        "model1.name ='Using Bidirectional LSTMS'\n",
        "print(model1.summary())"
      ],
      "execution_count": 73,
      "outputs": [
        {
          "output_type": "stream",
          "text": [
            "Model: \"Using Bidirectional LSTMS\"\n",
            "_________________________________________________________________\n",
            "Layer (type)                 Output Shape              Param #   \n",
            "=================================================================\n",
            "embedding_5 (Embedding)      (None, 1162, 80)          7440480   \n",
            "_________________________________________________________________\n",
            "bidirectional_2 (Bidirection (None, 400)               449600    \n",
            "_________________________________________________________________\n",
            "dense_5 (Dense)              (None, 2)                 802       \n",
            "=================================================================\n",
            "Total params: 7,890,882\n",
            "Trainable params: 7,890,882\n",
            "Non-trainable params: 0\n",
            "_________________________________________________________________\n",
            "None\n"
          ],
          "name": "stdout"
        }
      ]
    },
    {
      "cell_type": "code",
      "metadata": {
        "id": "aEOYbrn1tUT3",
        "colab_type": "code",
        "colab": {
          "base_uri": "https://localhost:8080/",
          "height": 204
        },
        "outputId": "0295480d-9e3c-4a3a-f063-4b0fc9e6dd5c"
      },
      "source": [
        "batch_size = 512\n",
        "hist2 = model1.fit(X_train_seq_trunc, \n",
        "          y_train, \n",
        "          epochs = 5, \n",
        "          batch_size=batch_size, \n",
        "          validation_data = (X_test_seq_trunc, y_test),\n",
        "          use_multiprocessing = True,\n",
        "          callbacks = [checkpoint],\n",
        "          workers = 200)"
      ],
      "execution_count": 76,
      "outputs": [
        {
          "output_type": "stream",
          "text": [
            "Train on 35000 samples, validate on 15000 samples\n",
            "Epoch 1/5\n",
            "35000/35000 [==============================] - 276s 8ms/step - loss: 0.5197 - accuracy: 0.7611 - val_loss: 0.3220 - val_accuracy: 0.8642\n",
            "Epoch 2/5\n",
            "35000/35000 [==============================] - 275s 8ms/step - loss: 0.2395 - accuracy: 0.9056 - val_loss: 0.3056 - val_accuracy: 0.8883\n",
            "Epoch 3/5\n",
            "35000/35000 [==============================] - 275s 8ms/step - loss: 0.1571 - accuracy: 0.9428 - val_loss: 0.2875 - val_accuracy: 0.8883\n",
            "Epoch 4/5\n",
            "35000/35000 [==============================] - 276s 8ms/step - loss: 0.1120 - accuracy: 0.9612 - val_loss: 0.3178 - val_accuracy: 0.8837\n",
            "Epoch 5/5\n",
            "35000/35000 [==============================] - 276s 8ms/step - loss: 0.0787 - accuracy: 0.9733 - val_loss: 0.3580 - val_accuracy: 0.8768\n"
          ],
          "name": "stdout"
        }
      ]
    },
    {
      "cell_type": "markdown",
      "metadata": {
        "id": "R9_v5eCby2tO",
        "colab_type": "text"
      },
      "source": [
        "The best accuracy is 0.8883 => 0.89 and the weights at that epoch are saved."
      ]
    },
    {
      "cell_type": "code",
      "metadata": {
        "id": "RS437C9xsnd_",
        "colab_type": "code",
        "outputId": "dd5983d4-f6b3-4d7c-e8eb-9767279292e4",
        "colab": {
          "base_uri": "https://localhost:8080/",
          "height": 282
        }
      },
      "source": [
        "plt.plot(hist2.history['val_accuracy'], label='Validation Accuracy')\n",
        "plt.legend()"
      ],
      "execution_count": 77,
      "outputs": [
        {
          "output_type": "execute_result",
          "data": {
            "text/plain": [
              "<matplotlib.legend.Legend at 0x7f95aaecc198>"
            ]
          },
          "metadata": {
            "tags": []
          },
          "execution_count": 77
        },
        {
          "output_type": "display_data",
          "data": {
            "image/png": "[encoded data removed]",
            "text/plain": [
              "<Figure size 432x288 with 1 Axes>"
            ]
          },
          "metadata": {
            "tags": [],
            "needs_background": "light"
          }
        }
      ]
    },
    {
      "cell_type": "code",
      "metadata": {
        "id": "dQUAML8gpxff",
        "colab_type": "code",
        "outputId": "cfc15d42-7f3b-4cb2-8b8e-04363369a1fe",
        "colab": {
          "base_uri": "https://localhost:8080/",
          "height": 282
        }
      },
      "source": [
        "plt.plot(hist2.history['loss'],label='Training Loss')\n",
        "plt.legend()"
      ],
      "execution_count": 78,
      "outputs": [
        {
          "output_type": "execute_result",
          "data": {
            "text/plain": [
              "<matplotlib.legend.Legend at 0x7f95aae61908>"
            ]
          },
          "metadata": {
            "tags": []
          },
          "execution_count": 78
        },
        {
          "output_type": "display_data",
          "data": {
            "image/png": "[encoded data removed]",
            "text/plain": [
              "<Figure size 432x288 with 1 Axes>"
            ]
          },
          "metadata": {
            "tags": [],
            "needs_background": "light"
          }
        }
      ]
    },
    {
      "cell_type": "markdown",
      "metadata": {
        "id": "zxiOoMuKBOcd",
        "colab_type": "text"
      },
      "source": [
        "**ANALYSIS**"
      ]
    },
    {
      "cell_type": "markdown",
      "metadata": {
        "id": "1FRCbZD-AWLR",
        "colab_type": "text"
      },
      "source": [
        "The validation accuracy starts to decrease after the 3rd epoch as the model overfits despite a dropout of 0.50. Training loss decreases with each epoch and the training accuracy increases. The loss function used is categorical cross entropy since there is only one sentiment for each review. The optimizer used is Adam.  The hyperparameters of the model are written under the model heading."
      ]
    },
    {
      "cell_type": "markdown",
      "metadata": {
        "id": "RVk28FgEE7lj",
        "colab_type": "text"
      },
      "source": [
        "Model 3"
      ]
    },
    {
      "cell_type": "code",
      "metadata": {
        "id": "2NuWY7j51J2i",
        "colab_type": "code",
        "colab": {}
      },
      "source": [
        "# WRITE CODE HERE\n",
        "tk = Tokenizer(num_words=1000,\n",
        "               filters='!\"#$%&()*+,-./:;<=>?@[\\\\]^_`{|}~\\t\\n',\n",
        "               lower=True,\n",
        "               split=\" \")\n",
        "\n",
        "tk.fit_on_texts(X_train)\n",
        "\n",
        "X_train_seq = tk.texts_to_sequences(X_train)\n",
        "X_test_seq = tk.texts_to_sequences(X_test)"
      ],
      "execution_count": 0,
      "outputs": []
    },
    {
      "cell_type": "code",
      "metadata": {
        "id": "MwnQcojf1LEM",
        "colab_type": "code",
        "colab": {
          "base_uri": "https://localhost:8080/",
          "height": 170
        },
        "outputId": "359bc2de-e365-416f-e451-6baf75787386"
      },
      "source": [
        "seq_lengths = X_train.apply(lambda x: len(x.split(' ')))\n",
        "seq_lengths.describe()"
      ],
      "execution_count": 189,
      "outputs": [
        {
          "output_type": "execute_result",
          "data": {
            "text/plain": [
              "count    35000.000000\n",
              "mean       117.910457\n",
              "std         88.428900\n",
              "min          3.000000\n",
              "25%         63.000000\n",
              "50%         88.000000\n",
              "75%        143.000000\n",
              "max       1162.000000\n",
              "Name: review, dtype: float64"
            ]
          },
          "metadata": {
            "tags": []
          },
          "execution_count": 189
        }
      ]
    },
    {
      "cell_type": "code",
      "metadata": {
        "id": "-xiT7jQG1T1t",
        "colab_type": "code",
        "colab": {}
      },
      "source": [
        "X_train_seq_trunc = sequence.pad_sequences(X_train_seq, maxlen=1000)\n",
        "X_test_seq_trunc = sequence.pad_sequences(X_test_seq, maxlen=1000)"
      ],
      "execution_count": 0,
      "outputs": []
    },
    {
      "cell_type": "code",
      "metadata": {
        "id": "2lADqEQz89P_",
        "colab_type": "code",
        "colab": {}
      },
      "source": [
        "input_dim = 1000\n",
        "output_dim = 2\n",
        "epochs = 20\n",
        "#Optimizer = Adam\n",
        "#Loss function = Categorical Cross entropy\n",
        "#LSTM units = 40\n",
        "#Dropout rate = 0.2"
      ],
      "execution_count": 0,
      "outputs": []
    },
    {
      "cell_type": "code",
      "metadata": {
        "id": "BO60nQCa5sR8",
        "colab_type": "code",
        "outputId": "3a8b30e7-36f6-4de0-fe65-0df8bb91b978",
        "colab": {
          "base_uri": "https://localhost:8080/",
          "height": 272
        }
      },
      "source": [
        "# Some example code to help you get started\n",
        "# X_train is your training data \n",
        "# input_dim is your dictionary length, output_dim is the length is the dimension of the dense embedding, you can choose whatever works best for you, starting with 2.\n",
        "\n",
        "model2 = Sequential()\n",
        "model2.add(Embedding(input_dim, output_dim, input_length = X_train_seq_trunc.shape[1]))\n",
        "model2.add(LSTM (40,dropout=0.50))\n",
        "model2.add(Dense(2,activation='softmax'))\n",
        "model2.name ='Less Parameters'\n",
        "model2.compile(loss = 'categorical_crossentropy', optimizer='adam',metrics = ['accuracy'])\n",
        "\n",
        "\n",
        "print(model2.summary())"
      ],
      "execution_count": 196,
      "outputs": [
        {
          "output_type": "stream",
          "text": [
            "Model: \"Less Parameters\"\n",
            "_________________________________________________________________\n",
            "Layer (type)                 Output Shape              Param #   \n",
            "=================================================================\n",
            "embedding_62 (Embedding)     (None, 1000, 2)           2000      \n",
            "_________________________________________________________________\n",
            "lstm_22 (LSTM)               (None, 40)                6880      \n",
            "_________________________________________________________________\n",
            "dense_61 (Dense)             (None, 2)                 82        \n",
            "=================================================================\n",
            "Total params: 8,962\n",
            "Trainable params: 8,962\n",
            "Non-trainable params: 0\n",
            "_________________________________________________________________\n",
            "None\n"
          ],
          "name": "stdout"
        }
      ]
    },
    {
      "cell_type": "code",
      "metadata": {
        "id": "6CY-8HwZLxst",
        "colab_type": "code",
        "colab": {
          "base_uri": "https://localhost:8080/",
          "height": 714
        },
        "outputId": "e1ac5f9c-28fa-4474-90df-a43cbf276ca7"
      },
      "source": [
        "batch_size = 512\n",
        "hist1 = model2.fit(X_train_seq_trunc, \n",
        "          y_train, \n",
        "          epochs = 20, \n",
        "          batch_size=batch_size, \n",
        "          validation_data = (X_test_seq_trunc, y_test),\n",
        "          use_multiprocessing = True,\n",
        "          callbacks = [checkpoint],\n",
        "          workers = 100)"
      ],
      "execution_count": 197,
      "outputs": [
        {
          "output_type": "stream",
          "text": [
            "Train on 35000 samples, validate on 15000 samples\n",
            "Epoch 1/20\n",
            "35000/35000 [==============================] - 92s 3ms/step - loss: 0.6765 - accuracy: 0.5939 - val_loss: 0.5787 - val_accuracy: 0.7311\n",
            "Epoch 2/20\n",
            "35000/35000 [==============================] - 88s 3ms/step - loss: 0.5206 - accuracy: 0.7251 - val_loss: 0.3955 - val_accuracy: 0.8251\n",
            "Epoch 3/20\n",
            "35000/35000 [==============================] - 90s 3ms/step - loss: 0.4529 - accuracy: 0.7561 - val_loss: 0.3692 - val_accuracy: 0.8404\n",
            "Epoch 4/20\n",
            "35000/35000 [==============================] - 88s 3ms/step - loss: 0.4305 - accuracy: 0.7674 - val_loss: 0.3595 - val_accuracy: 0.8462\n",
            "Epoch 5/20\n",
            "35000/35000 [==============================] - 87s 2ms/step - loss: 0.4177 - accuracy: 0.7711 - val_loss: 0.3378 - val_accuracy: 0.8558\n",
            "Epoch 6/20\n",
            "35000/35000 [==============================] - 87s 2ms/step - loss: 0.4336 - accuracy: 0.7664 - val_loss: 0.3665 - val_accuracy: 0.8326\n",
            "Epoch 7/20\n",
            "35000/35000 [==============================] - 87s 2ms/step - loss: 0.4221 - accuracy: 0.7704 - val_loss: 0.3341 - val_accuracy: 0.8552\n",
            "Epoch 8/20\n",
            "35000/35000 [==============================] - 87s 2ms/step - loss: 0.4121 - accuracy: 0.7756 - val_loss: 0.3333 - val_accuracy: 0.8563\n",
            "Epoch 9/20\n",
            "35000/35000 [==============================] - 87s 2ms/step - loss: 0.4085 - accuracy: 0.7772 - val_loss: 0.3304 - val_accuracy: 0.8579\n",
            "Epoch 10/20\n",
            "35000/35000 [==============================] - 88s 3ms/step - loss: 0.4090 - accuracy: 0.7768 - val_loss: 0.3297 - val_accuracy: 0.8585\n",
            "Epoch 11/20\n",
            "35000/35000 [==============================] - 87s 2ms/step - loss: 0.4037 - accuracy: 0.7817 - val_loss: 0.3291 - val_accuracy: 0.8589\n",
            "Epoch 12/20\n",
            "35000/35000 [==============================] - 87s 2ms/step - loss: 0.4065 - accuracy: 0.7778 - val_loss: 0.3397 - val_accuracy: 0.8551\n",
            "Epoch 13/20\n",
            "35000/35000 [==============================] - 88s 3ms/step - loss: 0.4403 - accuracy: 0.7675 - val_loss: 0.3427 - val_accuracy: 0.8505\n",
            "Epoch 14/20\n",
            "35000/35000 [==============================] - 89s 3ms/step - loss: 0.4128 - accuracy: 0.7739 - val_loss: 0.3294 - val_accuracy: 0.8594\n",
            "Epoch 15/20\n",
            "35000/35000 [==============================] - 90s 3ms/step - loss: 0.4031 - accuracy: 0.7824 - val_loss: 0.3282 - val_accuracy: 0.8590\n",
            "Epoch 16/20\n",
            "35000/35000 [==============================] - 90s 3ms/step - loss: 0.4033 - accuracy: 0.7837 - val_loss: 0.3353 - val_accuracy: 0.8566\n",
            "Epoch 17/20\n",
            "35000/35000 [==============================] - 91s 3ms/step - loss: 0.4060 - accuracy: 0.7789 - val_loss: 0.3277 - val_accuracy: 0.8594\n",
            "Epoch 18/20\n",
            "35000/35000 [==============================] - 90s 3ms/step - loss: 0.4008 - accuracy: 0.7834 - val_loss: 0.3307 - val_accuracy: 0.8598\n",
            "Epoch 19/20\n",
            "35000/35000 [==============================] - 89s 3ms/step - loss: 0.4073 - accuracy: 0.7783 - val_loss: 0.3305 - val_accuracy: 0.8577\n",
            "Epoch 20/20\n",
            "35000/35000 [==============================] - 89s 3ms/step - loss: 0.4074 - accuracy: 0.7764 - val_loss: 0.3401 - val_accuracy: 0.8535\n"
          ],
          "name": "stdout"
        }
      ]
    },
    {
      "cell_type": "markdown",
      "metadata": {
        "id": "zjX7EQxZ9U-O",
        "colab_type": "text"
      },
      "source": [
        "The best accuracy is 0.8598 => 0.86 and the weights at that epoch are saved."
      ]
    },
    {
      "cell_type": "code",
      "metadata": {
        "id": "Muc8-veOCqyR",
        "colab_type": "code",
        "colab": {
          "base_uri": "https://localhost:8080/",
          "height": 282
        },
        "outputId": "1297ad9f-bc55-492d-8365-f2498cadb183"
      },
      "source": [
        "plt.plot(hist1.history['val_accuracy'], label='Validation Accuracy')\n",
        "plt.legend()"
      ],
      "execution_count": 200,
      "outputs": [
        {
          "output_type": "execute_result",
          "data": {
            "text/plain": [
              "<matplotlib.legend.Legend at 0x7f958a5446a0>"
            ]
          },
          "metadata": {
            "tags": []
          },
          "execution_count": 200
        },
        {
          "output_type": "display_data",
          "data": {
            "image/png": "[encoded data removed]",
            "text/plain": [
              "<Figure size 432x288 with 1 Axes>"
            ]
          },
          "metadata": {
            "tags": [],
            "needs_background": "light"
          }
        }
      ]
    },
    {
      "cell_type": "code",
      "metadata": {
        "id": "kbPcfiQmpmUJ",
        "colab_type": "code",
        "colab": {
          "base_uri": "https://localhost:8080/",
          "height": 282
        },
        "outputId": "7f985694-6147-440a-d5dc-c07d0179c851"
      },
      "source": [
        "plt.plot(hist1.history['loss'],label='Training Loss')\n",
        "plt.legend()"
      ],
      "execution_count": 199,
      "outputs": [
        {
          "output_type": "execute_result",
          "data": {
            "text/plain": [
              "<matplotlib.legend.Legend at 0x7f958a530e48>"
            ]
          },
          "metadata": {
            "tags": []
          },
          "execution_count": 199
        },
        {
          "output_type": "display_data",
          "data": {
            "image/png": "[encoded data removed]",
            "text/plain": [
              "<Figure size 432x288 with 1 Axes>"
            ]
          },
          "metadata": {
            "tags": [],
            "needs_background": "light"
          }
        }
      ]
    },
    {
      "cell_type": "markdown",
      "metadata": {
        "id": "z1oSIpvsBXl6",
        "colab_type": "text"
      },
      "source": [
        "**ANALYSIS**"
      ]
    },
    {
      "cell_type": "markdown",
      "metadata": {
        "id": "6Hd3K5mZBeBX",
        "colab_type": "text"
      },
      "source": [
        "The validation accuracy increases initially and then oscillates. Training loss sharply decreases initially with each epoch and then oscillates. The loss function used is categorical cross entropy since there is only one sentiment for each review. The optimizer used is Adam.  The hyperparameters of the model are written under the model heading."
      ]
    },
    {
      "cell_type": "markdown",
      "metadata": {
        "id": "AGwyrHW-zcUF",
        "colab_type": "text"
      },
      "source": [
        "### Model Predictions. For your best performing model\n",
        "\n",
        "Come up with ten sample sentences NOT part of the original data set. \n",
        "Use model.predict() to generate predictions and report positive or negative sentiment."
      ]
    },
    {
      "cell_type": "code",
      "metadata": {
        "id": "UivGKeEkGsNb",
        "colab_type": "code",
        "colab": {}
      },
      "source": [
        "a = \"This movie was pretty bad.\"\n",
        "b = \"What a stupid film!!!\"\n",
        "c = \"I loved it. The acting was great.\"\n",
        "d = \"Such an inspiring movie. \"\n",
        "e = \"How pathetic is this movie. Boring!\"\n",
        "f = \"I wasted my time.\"\n",
        "g = \"Loved it. Will definitely watch again!\"\n",
        "h = \"I really like it.\"\n",
        "i = \"They need to come up with something new. Was average.\"\n",
        "j = \"Really a wonderful movie. Loved the plot.\""
      ],
      "execution_count": 0,
      "outputs": []
    },
    {
      "cell_type": "code",
      "metadata": {
        "id": "ReAsiqABGpsG",
        "colab_type": "code",
        "outputId": "cd609c58-4333-49c4-9da1-c10172c10909",
        "colab": {
          "base_uri": "https://localhost:8080/",
          "height": 187
        }
      },
      "source": [
        "Samples = [a,b,c,d,e,f,g,h,i,j]\n",
        "Samples"
      ],
      "execution_count": 202,
      "outputs": [
        {
          "output_type": "execute_result",
          "data": {
            "text/plain": [
              "['This movie was pretty bad.',\n",
              " 'What a stupid film!!!',\n",
              " 'I loved it. The acting was great.',\n",
              " 'Such an inspiring movie. ',\n",
              " 'How pathetic is this movie. Boring!',\n",
              " 'I wasted my time.',\n",
              " 'Loved it. Will definitely watch again!',\n",
              " 'I really like it.',\n",
              " 'They need to come up with something new. Was average.',\n",
              " 'Really a wonderful movie. Loved the plot.']"
            ]
          },
          "metadata": {
            "tags": []
          },
          "execution_count": 202
        }
      ]
    },
    {
      "cell_type": "code",
      "metadata": {
        "id": "blSTbZQTQ-cu",
        "colab_type": "code",
        "colab": {}
      },
      "source": [
        "sample_seq = tk.texts_to_sequences(Samples)"
      ],
      "execution_count": 0,
      "outputs": []
    },
    {
      "cell_type": "code",
      "metadata": {
        "id": "r_7kKp_7RC7v",
        "colab_type": "code",
        "colab": {}
      },
      "source": [
        "sample_seq_trunc = sequence.pad_sequences(sample_seq, maxlen=1162)"
      ],
      "execution_count": 0,
      "outputs": []
    },
    {
      "cell_type": "code",
      "metadata": {
        "id": "XWtrYPkoRTml",
        "colab_type": "code",
        "outputId": "247b11b0-b9c4-4e4a-e5a2-cd6c21d09db8",
        "colab": {
          "base_uri": "https://localhost:8080/",
          "height": 34
        }
      },
      "source": [
        "sample_seq_trunc.shape"
      ],
      "execution_count": 205,
      "outputs": [
        {
          "output_type": "execute_result",
          "data": {
            "text/plain": [
              "(10, 1162)"
            ]
          },
          "metadata": {
            "tags": []
          },
          "execution_count": 205
        }
      ]
    },
    {
      "cell_type": "code",
      "metadata": {
        "id": "8QrOKMofLaOl",
        "colab_type": "code",
        "colab": {}
      },
      "source": [
        "model1.load_weights('model1-002-0.905629-0.888267.h5')\n",
        "y_pred = model1.predict(sample_seq_trunc) #best performing model is the second model!!!\n",
        "y_pred = np.array([np.argmax(pred) for pred in y_pred])"
      ],
      "execution_count": 0,
      "outputs": []
    },
    {
      "cell_type": "code",
      "metadata": {
        "id": "IrSQhAt3coSJ",
        "colab_type": "code",
        "outputId": "7d621cd9-97af-4d1e-cf83-c679144aa459",
        "colab": {
          "base_uri": "https://localhost:8080/",
          "height": 34
        }
      },
      "source": [
        "y_pred #1 is positive sentiment, 0 is negative sentiment"
      ],
      "execution_count": 220,
      "outputs": [
        {
          "output_type": "execute_result",
          "data": {
            "text/plain": [
              "array([0, 0, 1, 1, 0, 0, 1, 1, 0, 1])"
            ]
          },
          "metadata": {
            "tags": []
          },
          "execution_count": 220
        }
      ]
    },
    {
      "cell_type": "code",
      "metadata": {
        "id": "InK11Npdcqzu",
        "colab_type": "code",
        "colab": {}
      },
      "source": [
        "#Actual should be 0 0 1 1 0 0 1 1 0 1"
      ],
      "execution_count": 0,
      "outputs": []
    }
  ]
}